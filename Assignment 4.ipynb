{
 "cells": [
  {
   "cell_type": "markdown",
   "id": "05d1dcd0",
   "metadata": {},
   "source": [
    "##                                       Assignment # 4\n"
   ]
  },
  {
   "cell_type": "code",
   "execution_count": 3,
   "id": "c6ab9bfa",
   "metadata": {},
   "outputs": [
    {
     "name": "stdout",
     "output_type": "stream",
     "text": [
      "Welcome to Python Calculator\n",
      "Enter the value\n",
      "1\n",
      "Enter the value\n",
      "31\n",
      "Please Select the operation with the help of given numbers\n",
      "\n",
      "1 Add +\n",
      "2 Sub -\n",
      "3 Mul *\n",
      "4 Div /\n",
      "5 Power **5\n",
      "please Enter the Value Again\n",
      "You can find only one number power at a time\n",
      "Enter the value\n",
      "12\n",
      "The Power of this number is :  144\n"
     ]
    }
   ],
   "source": [
    "# 1. Make a calculator using Python with addition , subtraction , multiplication ,division and power.\n",
    "print(\"Welcome to Python Calculator\")\n",
    "num=int(input(\"Enter the value\\n\"))\n",
    "num1=int(input(\"Enter the value\\n\"))\n",
    "print('''Please Select the operation with the help of given numbers''')\n",
    "opr=int(input('''\n",
    "1 Add +\n",
    "2 Sub -\n",
    "3 Mul *\n",
    "4 Div /\n",
    "5 Power **'''))\n",
    "if opr ==1:\n",
    "    print(\"The Addition of this number is : \",num+num1)\n",
    "elif opr==2:\n",
    "    print(\"The Subtraction of this number is : \",num-num1)\n",
    "elif opr==3:\n",
    "    print(\"The multiplication of this number is : \",num*num1)\n",
    "elif opr==4:\n",
    "    print(\"The division of this number is :\",num/num1)\n",
    "elif opr==5:\n",
    "    print(\"please Enter the Value Again\")\n",
    "    print(\"You can find only one number power at a time\")\n",
    "    n=int(input(\"Enter the value\\n\"))\n",
    "    print(\"The Power of this number is : \",n**2)\n",
    "\n",
    "    \n",
    "    "
   ]
  },
  {
   "cell_type": "code",
   "execution_count": 11,
   "id": "c5698613",
   "metadata": {},
   "outputs": [
    {
     "name": "stdout",
     "output_type": "stream",
     "text": [
      "31\n",
      "41\n",
      "2\n",
      "41\n",
      "6\n"
     ]
    }
   ],
   "source": [
    "# 2. Write a program to check if there is any numeric value in list using for loop\n",
    "l=[\"perk\",31,41,2,41,\"apple\",\"mango\",6]\n",
    "for i in l:\n",
    "    if type(i)==int:\n",
    "        print(i)"
   ]
  },
  {
   "cell_type": "code",
   "execution_count": 17,
   "id": "19b95cef",
   "metadata": {},
   "outputs": [
    {
     "name": "stdout",
     "output_type": "stream",
     "text": [
      "{1: 'apple', 2: 'mango', 3: 'banana', 4: 'orange', 5: 'Watermelon'}\n"
     ]
    }
   ],
   "source": [
    "# 3. Write a Python script to add a key to a dictionary\n",
    "d={\n",
    "    1:\"apple\",\n",
    "    2:\"mango\",\n",
    "    3:\"banana\",\n",
    "    4:\"orange\"\n",
    "}\n",
    "d[5]=\"Watermelon\"\n",
    "print(d)"
   ]
  },
  {
   "cell_type": "code",
   "execution_count": 20,
   "id": "b2f73ade",
   "metadata": {},
   "outputs": [
    {
     "name": "stdout",
     "output_type": "stream",
     "text": [
      "156\n"
     ]
    }
   ],
   "source": [
    "# 4. Write a Python program to sum all the numeric items in a dictionary.\n",
    "dict={\n",
    "    \"a\":22,\n",
    "    \"b\":34,\n",
    "    \"c\":45,\n",
    "    \"d\":55\n",
    "}\n",
    "print(sum(dict.values()))"
   ]
  },
  {
   "cell_type": "code",
   "execution_count": 5,
   "id": "19ad03ec",
   "metadata": {},
   "outputs": [
    {
     "name": "stdout",
     "output_type": "stream",
     "text": [
      "The duplicate value of list is : [3, 4, 5, 6, 7, 8, 3]\n"
     ]
    }
   ],
   "source": [
    "# 5. Write a program to identify duplicate values from list.\n",
    "a=[1,2,3,4,5,6,7,8,3]\n",
    "b=[4,5,6,7,8,3]\n",
    "c=[]\n",
    "for i in a:\n",
    "    for j in b:\n",
    "        if i==j:\n",
    "            c.append(i)\n",
    "print(f\"The duplicate value of list is : {c}\")"
   ]
  },
  {
   "cell_type": "code",
   "execution_count": 25,
   "id": "4b4a8bc7",
   "metadata": {},
   "outputs": [
    {
     "name": "stdout",
     "output_type": "stream",
     "text": [
      "The given dictionary :  {'apple': 1, 'orange': 2, 'strawberry': 3, 'lychee': 4, 'pineapple': 5}\n",
      "pineapple is Present.\n"
     ]
    }
   ],
   "source": [
    "# 6. Write a Python script to check if a given key already exists in a dictionary\n",
    "dict ={\n",
    "    \n",
    "    'apple': 1,\n",
    "   'orange': 2,\n",
    "   'strawberry': 3,\n",
    "   'lychee': 4,\n",
    "    \"pineapple\": 5\n",
    "}\n",
    "\n",
    "print(\"The given dictionary : \",dict)\n",
    "check_key = \"pineapple\"\n",
    "if check_key in dict:\n",
    "    print(check_key,\"is Present.\")\n",
    "else:\n",
    "    print(check_key, \" is not Present.\")"
   ]
  }
 ],
 "metadata": {
  "kernelspec": {
   "display_name": "Python 3",
   "language": "python",
   "name": "python3"
  },
  "language_info": {
   "codemirror_mode": {
    "name": "ipython",
    "version": 3
   },
   "file_extension": ".py",
   "mimetype": "text/x-python",
   "name": "python",
   "nbconvert_exporter": "python",
   "pygments_lexer": "ipython3",
   "version": "3.8.8"
  }
 },
 "nbformat": 4,
 "nbformat_minor": 5
}
